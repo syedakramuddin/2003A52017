{
  "nbformat": 4,
  "nbformat_minor": 0,
  "metadata": {
    "colab": {
      "provenance": [],
      "collapsed_sections": [],
      "authorship_tag": "ABX9TyPV1KF1wz64LEZnEPWqBZ7M",
      "include_colab_link": true
    },
    "kernelspec": {
      "name": "python3",
      "display_name": "Python 3"
    },
    "language_info": {
      "name": "python"
    }
  },
  "cells": [
    {
      "cell_type": "markdown",
      "metadata": {
        "id": "view-in-github",
        "colab_type": "text"
      },
      "source": [
        "<a href=\"https://colab.research.google.com/github/syedakramuddin/2003A52017/blob/main/BodyMassGain.ipynb\" target=\"_parent\"><img src=\"https://colab.research.google.com/assets/colab-badge.svg\" alt=\"Open In Colab\"/></a>"
      ]
    },
    {
      "cell_type": "code",
      "execution_count": null,
      "metadata": {
        "id": "-KICu3lUbfwN"
      },
      "outputs": [],
      "source": [
        "!pip install -U -q PyDrive\n",
        "from pydrive.auth import GoogleAuth\n",
        "from pydrive.drive import GoogleDrive\n",
        "from google.colab import auth\n",
        "from oauth2client.client import GoogleCredentials\n"
      ]
    },
    {
      "cell_type": "code",
      "source": [
        "auth.authenticate_user()\n",
        "gauth = GoogleAuth()\n",
        "gauth.credentials = GoogleCredentials.get_application_default()\n",
        "drive = GoogleDrive(gauth)"
      ],
      "metadata": {
        "id": "U4M9wAh_b68-"
      },
      "execution_count": null,
      "outputs": []
    },
    {
      "cell_type": "code",
      "source": [
        "downloaded = drive.CreateFile({'id':'1la_ejWyLYO2lpFcORe3J17nJrRiKGuuJ'}) # replace the id with id of file you want to access\n",
        "downloaded.GetContentFile('BodyMassGain.csv') "
      ],
      "metadata": {
        "id": "Q6Onv5UIcKKK"
      },
      "execution_count": null,
      "outputs": []
    },
    {
      "cell_type": "code",
      "source": [
        "import pandas as pd"
      ],
      "metadata": {
        "id": "WhYYltk6cmBN"
      },
      "execution_count": null,
      "outputs": []
    },
    {
      "cell_type": "code",
      "source": [
        "df=pd.read_csv(\"BodyMassGain.csv\")"
      ],
      "metadata": {
        "id": "4bhjgVlpc0nk"
      },
      "execution_count": null,
      "outputs": []
    },
    {
      "cell_type": "code",
      "source": [
        "df\n"
      ],
      "metadata": {
        "colab": {
          "base_uri": "https://localhost:8080/",
          "height": 1000
        },
        "id": "8x97JQVyc8zQ",
        "outputId": "ba2f3d5c-2e21-409c-cb03-46d4963bfaae"
      },
      "execution_count": null,
      "outputs": [
        {
          "output_type": "execute_result",
          "data": {
            "text/plain": [
              "    Sno        Names  Age  Weight  Boiled Eggs  Calories in Egg  banana's  \\\n",
              "0     1         John   35      40            6              930         3   \n",
              "1     2          zoe   27      30            4              620         2   \n",
              "2     3       Camela   30      25            2              310         3   \n",
              "3     4         Alex   28      30            2              310         1   \n",
              "4     5        Diego   68      45            5              775         4   \n",
              "5     6    Cristiano   18      28            6              930         2   \n",
              "6     7       Mihail   58      42            4              620         1   \n",
              "7     8        Kathy   22      35            0                0         4   \n",
              "8     9       Nicole   45      36            3              465         0   \n",
              "9    10          Ray   52      41            1              155         2   \n",
              "10   11      Fredric   33      29            4              620         1   \n",
              "11   12          Yul   18      22            5              775         4   \n",
              "12   13       Yippie   25      30            3              465         2   \n",
              "13   14         Jane   28      32            7             1085         3   \n",
              "14   15         Anna   34      25            2              310         3   \n",
              "15   16        Cinde   39      40            5              775         4   \n",
              "16   17   Katharine    42      33            4              620         1   \n",
              "17   18       Barbra   19      21            4              620         1   \n",
              "18   19      Maggie    62      50            1              155         2   \n",
              "19   20      Glenda    73      50            6              930         3   \n",
              "20   21        Jane    55      42            4              620         2   \n",
              "21   22  Maximilian    33      29            1              155         1   \n",
              "22   23     Gregory    22      28            2              310         3   \n",
              "23   24      Sidney    44      32            3              465         0   \n",
              "24   25         Rex    77      51            5              775         4   \n",
              "25   26         Lee    21      26            8             1240         3   \n",
              "26   27        Paul    37      29            5              775         8   \n",
              "27   28       Justin   34      30            4              620         3   \n",
              "28   29        Juicy   55      44            7             1085         2   \n",
              "29   30        Gene    40      35            5              775         4   \n",
              "30   31      Marlon    36      30            0                0         4   \n",
              "31   32        Katty   56      48            2              310         3   \n",
              "32   33        Jack    47      37            6              930         2   \n",
              "33   34       Peter    62      46            3              465         2   \n",
              "34   35     Richard    26      30            2              310         3   \n",
              "35   36      Dustin    25      32            1              155         2   \n",
              "36   37       Henry    59      48            2              310         3   \n",
              "37   38         Roma   62      47            3              465         0   \n",
              "38   39       Ellen    33      32            6              930         3   \n",
              "39   40        Faye    37      33            4              620         2   \n",
              "40   41       Diane    50      43            2              310         3   \n",
              "41   42          Ben   47      40            2              310         1   \n",
              "42   43         Gwen   69      50            5              775         4   \n",
              "43   44       Sissy    63      38            6              930         2   \n",
              "44   45     Jessica    39      40            8             1240         5   \n",
              "45   46     Gwyneth    21      29            3              465         3   \n",
              "46   47       Halle    31      30            2              310         2   \n",
              "47   48        Shefa   28      36            5              775         3   \n",
              "48   49    Charlize    53      43            2              310         3   \n",
              "49   50      Robert    62      40            9             1395         5   \n",
              "\n",
              "    Calories in banana  supplements  Calories in supplements  \\\n",
              "0                  267            1                       66   \n",
              "1                  178            2                      132   \n",
              "2                  267            0                        0   \n",
              "3                   89            0                        0   \n",
              "4                  356            3                      198   \n",
              "5                  178            2                      132   \n",
              "6                   89            1                       66   \n",
              "7                  356            2                      132   \n",
              "8                    0            4                      264   \n",
              "9                  178            3                      198   \n",
              "10                  89            0                        0   \n",
              "11                 356            3                      198   \n",
              "12                 178            1                       66   \n",
              "13                 267            1                       66   \n",
              "14                 267            0                        0   \n",
              "15                 356            3                      198   \n",
              "16                  89            1                       66   \n",
              "17                  89            0                        0   \n",
              "18                 178            3                      198   \n",
              "19                 267            1                       66   \n",
              "20                 178            2                      132   \n",
              "21                  89            1                       66   \n",
              "22                 267            0                        0   \n",
              "23                   0            4                      264   \n",
              "24                 356            3                      198   \n",
              "25                 267            2                      132   \n",
              "26                 712            4                      264   \n",
              "27                 267            1                       66   \n",
              "28                 178            2                      132   \n",
              "29                 356            3                      198   \n",
              "30                 356            2                      132   \n",
              "31                 267            0                        0   \n",
              "32                 178            2                      132   \n",
              "33                 178            1                       66   \n",
              "34                 267            0                        0   \n",
              "35                 178            3                      198   \n",
              "36                 267            1                       66   \n",
              "37                   0            4                      264   \n",
              "38                 267            1                       66   \n",
              "39                 178            2                      132   \n",
              "40                 267            0                        0   \n",
              "41                  89            0                        0   \n",
              "42                 356            3                      198   \n",
              "43                 178            2                      132   \n",
              "44                 445            4                      264   \n",
              "45                 267            3                      198   \n",
              "46                 178            2                      132   \n",
              "47                 267            1                       66   \n",
              "48                 267            0                        0   \n",
              "49                 445            2                      132   \n",
              "\n",
              "    Cal in(total calories consumed)  cal out(gym)  After 3 months  \\\n",
              "0                               999           500              46   \n",
              "1                               754           600              34   \n",
              "2                               313           350              28   \n",
              "3                               311           320              35   \n",
              "4                               977           400              48   \n",
              "5                              1064           300              35   \n",
              "6                               687           650              43   \n",
              "7                               136           300              38   \n",
              "8                               729           500              40   \n",
              "9                               355           400              43   \n",
              "10                              621           625              30   \n",
              "11                              977           400              26   \n",
              "12                              533           300              33   \n",
              "13                             1154           500              37   \n",
              "14                              313           350              26   \n",
              "15                              977           400              45   \n",
              "16                              687           650              36   \n",
              "17                              621           625              28   \n",
              "18                              355           400              52   \n",
              "19                              999           500              50   \n",
              "20                              754           600              46   \n",
              "21                              222           300              30   \n",
              "22                              313           350              29   \n",
              "23                              729           500              37   \n",
              "24                              977           400              55   \n",
              "25                             1375           600              29   \n",
              "26                             1047           500              30   \n",
              "27                              689           700              35   \n",
              "28                             1219           500              49   \n",
              "29                              977           400              39   \n",
              "30                              136           300              38   \n",
              "31                              313           350              49   \n",
              "32                             1064           300              39   \n",
              "33                              533           300              49   \n",
              "34                              313           350              37   \n",
              "35                              355           400              32   \n",
              "36                              379           300              50   \n",
              "37                              729           500              49   \n",
              "38                              999           500              37   \n",
              "39                              754           600              37   \n",
              "40                              313           350              44   \n",
              "41                              311           320              42   \n",
              "42                              977           400              55   \n",
              "43                             1064           300              39   \n",
              "44                             1509           600              50   \n",
              "45                              666           500              38   \n",
              "46                              444           500              35   \n",
              "47                              844           900              35   \n",
              "48                              313           350              45   \n",
              "49                             1532           500              50   \n",
              "\n",
              "    After 6 months  After 1year  Change(0-1)  \n",
              "0               50           55            1  \n",
              "1               40           48            1  \n",
              "2               27           25            0  \n",
              "3               38           30            0  \n",
              "4               52           55            1  \n",
              "5               33           46            1  \n",
              "6               48           50            1  \n",
              "7               40           34            0  \n",
              "8               42           45            1  \n",
              "9               47           41            0  \n",
              "10              32           27            0  \n",
              "11              30           35            1  \n",
              "12              38           48            1  \n",
              "13              42           49            1  \n",
              "14              24           23            0  \n",
              "15              56           62            1  \n",
              "16              48           54            1  \n",
              "17              26           20            0  \n",
              "18              49           50            0  \n",
              "19              55           60            1  \n",
              "20              52           57            1  \n",
              "21              25           28            0  \n",
              "22              30           27            0  \n",
              "23              44           59            1  \n",
              "24              56           69            1  \n",
              "25              38           49            1  \n",
              "26              38           42            1  \n",
              "27              32           30            0  \n",
              "28              59           62            1  \n",
              "29              48           62            1  \n",
              "30              34           30            0  \n",
              "31              42           39            0  \n",
              "32              47           52            1  \n",
              "33              50           51            1  \n",
              "34              32           30            0  \n",
              "35              35           30            0  \n",
              "36              55           62            1  \n",
              "37              50           53            1  \n",
              "38              47           55            1  \n",
              "39              55           63            1  \n",
              "40              42           40            0  \n",
              "41              43           41            0  \n",
              "42              59           60            1  \n",
              "43              48           56            1  \n",
              "44              62           71            1  \n",
              "45              47           55            1  \n",
              "46              32           30            0  \n",
              "47              38           35            0  \n",
              "48              48           42            0  \n",
              "49              62           70            1  "
            ],
            "text/html": [
              "\n",
              "  <div id=\"df-70795e3c-13bc-410f-9e98-59d74c56ed55\">\n",
              "    <div class=\"colab-df-container\">\n",
              "      <div>\n",
              "<style scoped>\n",
              "    .dataframe tbody tr th:only-of-type {\n",
              "        vertical-align: middle;\n",
              "    }\n",
              "\n",
              "    .dataframe tbody tr th {\n",
              "        vertical-align: top;\n",
              "    }\n",
              "\n",
              "    .dataframe thead th {\n",
              "        text-align: right;\n",
              "    }\n",
              "</style>\n",
              "<table border=\"1\" class=\"dataframe\">\n",
              "  <thead>\n",
              "    <tr style=\"text-align: right;\">\n",
              "      <th></th>\n",
              "      <th>Sno</th>\n",
              "      <th>Names</th>\n",
              "      <th>Age</th>\n",
              "      <th>Weight</th>\n",
              "      <th>Boiled Eggs</th>\n",
              "      <th>Calories in Egg</th>\n",
              "      <th>banana's</th>\n",
              "      <th>Calories in banana</th>\n",
              "      <th>supplements</th>\n",
              "      <th>Calories in supplements</th>\n",
              "      <th>Cal in(total calories consumed)</th>\n",
              "      <th>cal out(gym)</th>\n",
              "      <th>After 3 months</th>\n",
              "      <th>After 6 months</th>\n",
              "      <th>After 1year</th>\n",
              "      <th>Change(0-1)</th>\n",
              "    </tr>\n",
              "  </thead>\n",
              "  <tbody>\n",
              "    <tr>\n",
              "      <th>0</th>\n",
              "      <td>1</td>\n",
              "      <td>John</td>\n",
              "      <td>35</td>\n",
              "      <td>40</td>\n",
              "      <td>6</td>\n",
              "      <td>930</td>\n",
              "      <td>3</td>\n",
              "      <td>267</td>\n",
              "      <td>1</td>\n",
              "      <td>66</td>\n",
              "      <td>999</td>\n",
              "      <td>500</td>\n",
              "      <td>46</td>\n",
              "      <td>50</td>\n",
              "      <td>55</td>\n",
              "      <td>1</td>\n",
              "    </tr>\n",
              "    <tr>\n",
              "      <th>1</th>\n",
              "      <td>2</td>\n",
              "      <td>zoe</td>\n",
              "      <td>27</td>\n",
              "      <td>30</td>\n",
              "      <td>4</td>\n",
              "      <td>620</td>\n",
              "      <td>2</td>\n",
              "      <td>178</td>\n",
              "      <td>2</td>\n",
              "      <td>132</td>\n",
              "      <td>754</td>\n",
              "      <td>600</td>\n",
              "      <td>34</td>\n",
              "      <td>40</td>\n",
              "      <td>48</td>\n",
              "      <td>1</td>\n",
              "    </tr>\n",
              "    <tr>\n",
              "      <th>2</th>\n",
              "      <td>3</td>\n",
              "      <td>Camela</td>\n",
              "      <td>30</td>\n",
              "      <td>25</td>\n",
              "      <td>2</td>\n",
              "      <td>310</td>\n",
              "      <td>3</td>\n",
              "      <td>267</td>\n",
              "      <td>0</td>\n",
              "      <td>0</td>\n",
              "      <td>313</td>\n",
              "      <td>350</td>\n",
              "      <td>28</td>\n",
              "      <td>27</td>\n",
              "      <td>25</td>\n",
              "      <td>0</td>\n",
              "    </tr>\n",
              "    <tr>\n",
              "      <th>3</th>\n",
              "      <td>4</td>\n",
              "      <td>Alex</td>\n",
              "      <td>28</td>\n",
              "      <td>30</td>\n",
              "      <td>2</td>\n",
              "      <td>310</td>\n",
              "      <td>1</td>\n",
              "      <td>89</td>\n",
              "      <td>0</td>\n",
              "      <td>0</td>\n",
              "      <td>311</td>\n",
              "      <td>320</td>\n",
              "      <td>35</td>\n",
              "      <td>38</td>\n",
              "      <td>30</td>\n",
              "      <td>0</td>\n",
              "    </tr>\n",
              "    <tr>\n",
              "      <th>4</th>\n",
              "      <td>5</td>\n",
              "      <td>Diego</td>\n",
              "      <td>68</td>\n",
              "      <td>45</td>\n",
              "      <td>5</td>\n",
              "      <td>775</td>\n",
              "      <td>4</td>\n",
              "      <td>356</td>\n",
              "      <td>3</td>\n",
              "      <td>198</td>\n",
              "      <td>977</td>\n",
              "      <td>400</td>\n",
              "      <td>48</td>\n",
              "      <td>52</td>\n",
              "      <td>55</td>\n",
              "      <td>1</td>\n",
              "    </tr>\n",
              "    <tr>\n",
              "      <th>5</th>\n",
              "      <td>6</td>\n",
              "      <td>Cristiano</td>\n",
              "      <td>18</td>\n",
              "      <td>28</td>\n",
              "      <td>6</td>\n",
              "      <td>930</td>\n",
              "      <td>2</td>\n",
              "      <td>178</td>\n",
              "      <td>2</td>\n",
              "      <td>132</td>\n",
              "      <td>1064</td>\n",
              "      <td>300</td>\n",
              "      <td>35</td>\n",
              "      <td>33</td>\n",
              "      <td>46</td>\n",
              "      <td>1</td>\n",
              "    </tr>\n",
              "    <tr>\n",
              "      <th>6</th>\n",
              "      <td>7</td>\n",
              "      <td>Mihail</td>\n",
              "      <td>58</td>\n",
              "      <td>42</td>\n",
              "      <td>4</td>\n",
              "      <td>620</td>\n",
              "      <td>1</td>\n",
              "      <td>89</td>\n",
              "      <td>1</td>\n",
              "      <td>66</td>\n",
              "      <td>687</td>\n",
              "      <td>650</td>\n",
              "      <td>43</td>\n",
              "      <td>48</td>\n",
              "      <td>50</td>\n",
              "      <td>1</td>\n",
              "    </tr>\n",
              "    <tr>\n",
              "      <th>7</th>\n",
              "      <td>8</td>\n",
              "      <td>Kathy</td>\n",
              "      <td>22</td>\n",
              "      <td>35</td>\n",
              "      <td>0</td>\n",
              "      <td>0</td>\n",
              "      <td>4</td>\n",
              "      <td>356</td>\n",
              "      <td>2</td>\n",
              "      <td>132</td>\n",
              "      <td>136</td>\n",
              "      <td>300</td>\n",
              "      <td>38</td>\n",
              "      <td>40</td>\n",
              "      <td>34</td>\n",
              "      <td>0</td>\n",
              "    </tr>\n",
              "    <tr>\n",
              "      <th>8</th>\n",
              "      <td>9</td>\n",
              "      <td>Nicole</td>\n",
              "      <td>45</td>\n",
              "      <td>36</td>\n",
              "      <td>3</td>\n",
              "      <td>465</td>\n",
              "      <td>0</td>\n",
              "      <td>0</td>\n",
              "      <td>4</td>\n",
              "      <td>264</td>\n",
              "      <td>729</td>\n",
              "      <td>500</td>\n",
              "      <td>40</td>\n",
              "      <td>42</td>\n",
              "      <td>45</td>\n",
              "      <td>1</td>\n",
              "    </tr>\n",
              "    <tr>\n",
              "      <th>9</th>\n",
              "      <td>10</td>\n",
              "      <td>Ray</td>\n",
              "      <td>52</td>\n",
              "      <td>41</td>\n",
              "      <td>1</td>\n",
              "      <td>155</td>\n",
              "      <td>2</td>\n",
              "      <td>178</td>\n",
              "      <td>3</td>\n",
              "      <td>198</td>\n",
              "      <td>355</td>\n",
              "      <td>400</td>\n",
              "      <td>43</td>\n",
              "      <td>47</td>\n",
              "      <td>41</td>\n",
              "      <td>0</td>\n",
              "    </tr>\n",
              "    <tr>\n",
              "      <th>10</th>\n",
              "      <td>11</td>\n",
              "      <td>Fredric</td>\n",
              "      <td>33</td>\n",
              "      <td>29</td>\n",
              "      <td>4</td>\n",
              "      <td>620</td>\n",
              "      <td>1</td>\n",
              "      <td>89</td>\n",
              "      <td>0</td>\n",
              "      <td>0</td>\n",
              "      <td>621</td>\n",
              "      <td>625</td>\n",
              "      <td>30</td>\n",
              "      <td>32</td>\n",
              "      <td>27</td>\n",
              "      <td>0</td>\n",
              "    </tr>\n",
              "    <tr>\n",
              "      <th>11</th>\n",
              "      <td>12</td>\n",
              "      <td>Yul</td>\n",
              "      <td>18</td>\n",
              "      <td>22</td>\n",
              "      <td>5</td>\n",
              "      <td>775</td>\n",
              "      <td>4</td>\n",
              "      <td>356</td>\n",
              "      <td>3</td>\n",
              "      <td>198</td>\n",
              "      <td>977</td>\n",
              "      <td>400</td>\n",
              "      <td>26</td>\n",
              "      <td>30</td>\n",
              "      <td>35</td>\n",
              "      <td>1</td>\n",
              "    </tr>\n",
              "    <tr>\n",
              "      <th>12</th>\n",
              "      <td>13</td>\n",
              "      <td>Yippie</td>\n",
              "      <td>25</td>\n",
              "      <td>30</td>\n",
              "      <td>3</td>\n",
              "      <td>465</td>\n",
              "      <td>2</td>\n",
              "      <td>178</td>\n",
              "      <td>1</td>\n",
              "      <td>66</td>\n",
              "      <td>533</td>\n",
              "      <td>300</td>\n",
              "      <td>33</td>\n",
              "      <td>38</td>\n",
              "      <td>48</td>\n",
              "      <td>1</td>\n",
              "    </tr>\n",
              "    <tr>\n",
              "      <th>13</th>\n",
              "      <td>14</td>\n",
              "      <td>Jane</td>\n",
              "      <td>28</td>\n",
              "      <td>32</td>\n",
              "      <td>7</td>\n",
              "      <td>1085</td>\n",
              "      <td>3</td>\n",
              "      <td>267</td>\n",
              "      <td>1</td>\n",
              "      <td>66</td>\n",
              "      <td>1154</td>\n",
              "      <td>500</td>\n",
              "      <td>37</td>\n",
              "      <td>42</td>\n",
              "      <td>49</td>\n",
              "      <td>1</td>\n",
              "    </tr>\n",
              "    <tr>\n",
              "      <th>14</th>\n",
              "      <td>15</td>\n",
              "      <td>Anna</td>\n",
              "      <td>34</td>\n",
              "      <td>25</td>\n",
              "      <td>2</td>\n",
              "      <td>310</td>\n",
              "      <td>3</td>\n",
              "      <td>267</td>\n",
              "      <td>0</td>\n",
              "      <td>0</td>\n",
              "      <td>313</td>\n",
              "      <td>350</td>\n",
              "      <td>26</td>\n",
              "      <td>24</td>\n",
              "      <td>23</td>\n",
              "      <td>0</td>\n",
              "    </tr>\n",
              "    <tr>\n",
              "      <th>15</th>\n",
              "      <td>16</td>\n",
              "      <td>Cinde</td>\n",
              "      <td>39</td>\n",
              "      <td>40</td>\n",
              "      <td>5</td>\n",
              "      <td>775</td>\n",
              "      <td>4</td>\n",
              "      <td>356</td>\n",
              "      <td>3</td>\n",
              "      <td>198</td>\n",
              "      <td>977</td>\n",
              "      <td>400</td>\n",
              "      <td>45</td>\n",
              "      <td>56</td>\n",
              "      <td>62</td>\n",
              "      <td>1</td>\n",
              "    </tr>\n",
              "    <tr>\n",
              "      <th>16</th>\n",
              "      <td>17</td>\n",
              "      <td>Katharine</td>\n",
              "      <td>42</td>\n",
              "      <td>33</td>\n",
              "      <td>4</td>\n",
              "      <td>620</td>\n",
              "      <td>1</td>\n",
              "      <td>89</td>\n",
              "      <td>1</td>\n",
              "      <td>66</td>\n",
              "      <td>687</td>\n",
              "      <td>650</td>\n",
              "      <td>36</td>\n",
              "      <td>48</td>\n",
              "      <td>54</td>\n",
              "      <td>1</td>\n",
              "    </tr>\n",
              "    <tr>\n",
              "      <th>17</th>\n",
              "      <td>18</td>\n",
              "      <td>Barbra</td>\n",
              "      <td>19</td>\n",
              "      <td>21</td>\n",
              "      <td>4</td>\n",
              "      <td>620</td>\n",
              "      <td>1</td>\n",
              "      <td>89</td>\n",
              "      <td>0</td>\n",
              "      <td>0</td>\n",
              "      <td>621</td>\n",
              "      <td>625</td>\n",
              "      <td>28</td>\n",
              "      <td>26</td>\n",
              "      <td>20</td>\n",
              "      <td>0</td>\n",
              "    </tr>\n",
              "    <tr>\n",
              "      <th>18</th>\n",
              "      <td>19</td>\n",
              "      <td>Maggie</td>\n",
              "      <td>62</td>\n",
              "      <td>50</td>\n",
              "      <td>1</td>\n",
              "      <td>155</td>\n",
              "      <td>2</td>\n",
              "      <td>178</td>\n",
              "      <td>3</td>\n",
              "      <td>198</td>\n",
              "      <td>355</td>\n",
              "      <td>400</td>\n",
              "      <td>52</td>\n",
              "      <td>49</td>\n",
              "      <td>50</td>\n",
              "      <td>0</td>\n",
              "    </tr>\n",
              "    <tr>\n",
              "      <th>19</th>\n",
              "      <td>20</td>\n",
              "      <td>Glenda</td>\n",
              "      <td>73</td>\n",
              "      <td>50</td>\n",
              "      <td>6</td>\n",
              "      <td>930</td>\n",
              "      <td>3</td>\n",
              "      <td>267</td>\n",
              "      <td>1</td>\n",
              "      <td>66</td>\n",
              "      <td>999</td>\n",
              "      <td>500</td>\n",
              "      <td>50</td>\n",
              "      <td>55</td>\n",
              "      <td>60</td>\n",
              "      <td>1</td>\n",
              "    </tr>\n",
              "    <tr>\n",
              "      <th>20</th>\n",
              "      <td>21</td>\n",
              "      <td>Jane</td>\n",
              "      <td>55</td>\n",
              "      <td>42</td>\n",
              "      <td>4</td>\n",
              "      <td>620</td>\n",
              "      <td>2</td>\n",
              "      <td>178</td>\n",
              "      <td>2</td>\n",
              "      <td>132</td>\n",
              "      <td>754</td>\n",
              "      <td>600</td>\n",
              "      <td>46</td>\n",
              "      <td>52</td>\n",
              "      <td>57</td>\n",
              "      <td>1</td>\n",
              "    </tr>\n",
              "    <tr>\n",
              "      <th>21</th>\n",
              "      <td>22</td>\n",
              "      <td>Maximilian</td>\n",
              "      <td>33</td>\n",
              "      <td>29</td>\n",
              "      <td>1</td>\n",
              "      <td>155</td>\n",
              "      <td>1</td>\n",
              "      <td>89</td>\n",
              "      <td>1</td>\n",
              "      <td>66</td>\n",
              "      <td>222</td>\n",
              "      <td>300</td>\n",
              "      <td>30</td>\n",
              "      <td>25</td>\n",
              "      <td>28</td>\n",
              "      <td>0</td>\n",
              "    </tr>\n",
              "    <tr>\n",
              "      <th>22</th>\n",
              "      <td>23</td>\n",
              "      <td>Gregory</td>\n",
              "      <td>22</td>\n",
              "      <td>28</td>\n",
              "      <td>2</td>\n",
              "      <td>310</td>\n",
              "      <td>3</td>\n",
              "      <td>267</td>\n",
              "      <td>0</td>\n",
              "      <td>0</td>\n",
              "      <td>313</td>\n",
              "      <td>350</td>\n",
              "      <td>29</td>\n",
              "      <td>30</td>\n",
              "      <td>27</td>\n",
              "      <td>0</td>\n",
              "    </tr>\n",
              "    <tr>\n",
              "      <th>23</th>\n",
              "      <td>24</td>\n",
              "      <td>Sidney</td>\n",
              "      <td>44</td>\n",
              "      <td>32</td>\n",
              "      <td>3</td>\n",
              "      <td>465</td>\n",
              "      <td>0</td>\n",
              "      <td>0</td>\n",
              "      <td>4</td>\n",
              "      <td>264</td>\n",
              "      <td>729</td>\n",
              "      <td>500</td>\n",
              "      <td>37</td>\n",
              "      <td>44</td>\n",
              "      <td>59</td>\n",
              "      <td>1</td>\n",
              "    </tr>\n",
              "    <tr>\n",
              "      <th>24</th>\n",
              "      <td>25</td>\n",
              "      <td>Rex</td>\n",
              "      <td>77</td>\n",
              "      <td>51</td>\n",
              "      <td>5</td>\n",
              "      <td>775</td>\n",
              "      <td>4</td>\n",
              "      <td>356</td>\n",
              "      <td>3</td>\n",
              "      <td>198</td>\n",
              "      <td>977</td>\n",
              "      <td>400</td>\n",
              "      <td>55</td>\n",
              "      <td>56</td>\n",
              "      <td>69</td>\n",
              "      <td>1</td>\n",
              "    </tr>\n",
              "    <tr>\n",
              "      <th>25</th>\n",
              "      <td>26</td>\n",
              "      <td>Lee</td>\n",
              "      <td>21</td>\n",
              "      <td>26</td>\n",
              "      <td>8</td>\n",
              "      <td>1240</td>\n",
              "      <td>3</td>\n",
              "      <td>267</td>\n",
              "      <td>2</td>\n",
              "      <td>132</td>\n",
              "      <td>1375</td>\n",
              "      <td>600</td>\n",
              "      <td>29</td>\n",
              "      <td>38</td>\n",
              "      <td>49</td>\n",
              "      <td>1</td>\n",
              "    </tr>\n",
              "    <tr>\n",
              "      <th>26</th>\n",
              "      <td>27</td>\n",
              "      <td>Paul</td>\n",
              "      <td>37</td>\n",
              "      <td>29</td>\n",
              "      <td>5</td>\n",
              "      <td>775</td>\n",
              "      <td>8</td>\n",
              "      <td>712</td>\n",
              "      <td>4</td>\n",
              "      <td>264</td>\n",
              "      <td>1047</td>\n",
              "      <td>500</td>\n",
              "      <td>30</td>\n",
              "      <td>38</td>\n",
              "      <td>42</td>\n",
              "      <td>1</td>\n",
              "    </tr>\n",
              "    <tr>\n",
              "      <th>27</th>\n",
              "      <td>28</td>\n",
              "      <td>Justin</td>\n",
              "      <td>34</td>\n",
              "      <td>30</td>\n",
              "      <td>4</td>\n",
              "      <td>620</td>\n",
              "      <td>3</td>\n",
              "      <td>267</td>\n",
              "      <td>1</td>\n",
              "      <td>66</td>\n",
              "      <td>689</td>\n",
              "      <td>700</td>\n",
              "      <td>35</td>\n",
              "      <td>32</td>\n",
              "      <td>30</td>\n",
              "      <td>0</td>\n",
              "    </tr>\n",
              "    <tr>\n",
              "      <th>28</th>\n",
              "      <td>29</td>\n",
              "      <td>Juicy</td>\n",
              "      <td>55</td>\n",
              "      <td>44</td>\n",
              "      <td>7</td>\n",
              "      <td>1085</td>\n",
              "      <td>2</td>\n",
              "      <td>178</td>\n",
              "      <td>2</td>\n",
              "      <td>132</td>\n",
              "      <td>1219</td>\n",
              "      <td>500</td>\n",
              "      <td>49</td>\n",
              "      <td>59</td>\n",
              "      <td>62</td>\n",
              "      <td>1</td>\n",
              "    </tr>\n",
              "    <tr>\n",
              "      <th>29</th>\n",
              "      <td>30</td>\n",
              "      <td>Gene</td>\n",
              "      <td>40</td>\n",
              "      <td>35</td>\n",
              "      <td>5</td>\n",
              "      <td>775</td>\n",
              "      <td>4</td>\n",
              "      <td>356</td>\n",
              "      <td>3</td>\n",
              "      <td>198</td>\n",
              "      <td>977</td>\n",
              "      <td>400</td>\n",
              "      <td>39</td>\n",
              "      <td>48</td>\n",
              "      <td>62</td>\n",
              "      <td>1</td>\n",
              "    </tr>\n",
              "    <tr>\n",
              "      <th>30</th>\n",
              "      <td>31</td>\n",
              "      <td>Marlon</td>\n",
              "      <td>36</td>\n",
              "      <td>30</td>\n",
              "      <td>0</td>\n",
              "      <td>0</td>\n",
              "      <td>4</td>\n",
              "      <td>356</td>\n",
              "      <td>2</td>\n",
              "      <td>132</td>\n",
              "      <td>136</td>\n",
              "      <td>300</td>\n",
              "      <td>38</td>\n",
              "      <td>34</td>\n",
              "      <td>30</td>\n",
              "      <td>0</td>\n",
              "    </tr>\n",
              "    <tr>\n",
              "      <th>31</th>\n",
              "      <td>32</td>\n",
              "      <td>Katty</td>\n",
              "      <td>56</td>\n",
              "      <td>48</td>\n",
              "      <td>2</td>\n",
              "      <td>310</td>\n",
              "      <td>3</td>\n",
              "      <td>267</td>\n",
              "      <td>0</td>\n",
              "      <td>0</td>\n",
              "      <td>313</td>\n",
              "      <td>350</td>\n",
              "      <td>49</td>\n",
              "      <td>42</td>\n",
              "      <td>39</td>\n",
              "      <td>0</td>\n",
              "    </tr>\n",
              "    <tr>\n",
              "      <th>32</th>\n",
              "      <td>33</td>\n",
              "      <td>Jack</td>\n",
              "      <td>47</td>\n",
              "      <td>37</td>\n",
              "      <td>6</td>\n",
              "      <td>930</td>\n",
              "      <td>2</td>\n",
              "      <td>178</td>\n",
              "      <td>2</td>\n",
              "      <td>132</td>\n",
              "      <td>1064</td>\n",
              "      <td>300</td>\n",
              "      <td>39</td>\n",
              "      <td>47</td>\n",
              "      <td>52</td>\n",
              "      <td>1</td>\n",
              "    </tr>\n",
              "    <tr>\n",
              "      <th>33</th>\n",
              "      <td>34</td>\n",
              "      <td>Peter</td>\n",
              "      <td>62</td>\n",
              "      <td>46</td>\n",
              "      <td>3</td>\n",
              "      <td>465</td>\n",
              "      <td>2</td>\n",
              "      <td>178</td>\n",
              "      <td>1</td>\n",
              "      <td>66</td>\n",
              "      <td>533</td>\n",
              "      <td>300</td>\n",
              "      <td>49</td>\n",
              "      <td>50</td>\n",
              "      <td>51</td>\n",
              "      <td>1</td>\n",
              "    </tr>\n",
              "    <tr>\n",
              "      <th>34</th>\n",
              "      <td>35</td>\n",
              "      <td>Richard</td>\n",
              "      <td>26</td>\n",
              "      <td>30</td>\n",
              "      <td>2</td>\n",
              "      <td>310</td>\n",
              "      <td>3</td>\n",
              "      <td>267</td>\n",
              "      <td>0</td>\n",
              "      <td>0</td>\n",
              "      <td>313</td>\n",
              "      <td>350</td>\n",
              "      <td>37</td>\n",
              "      <td>32</td>\n",
              "      <td>30</td>\n",
              "      <td>0</td>\n",
              "    </tr>\n",
              "    <tr>\n",
              "      <th>35</th>\n",
              "      <td>36</td>\n",
              "      <td>Dustin</td>\n",
              "      <td>25</td>\n",
              "      <td>32</td>\n",
              "      <td>1</td>\n",
              "      <td>155</td>\n",
              "      <td>2</td>\n",
              "      <td>178</td>\n",
              "      <td>3</td>\n",
              "      <td>198</td>\n",
              "      <td>355</td>\n",
              "      <td>400</td>\n",
              "      <td>32</td>\n",
              "      <td>35</td>\n",
              "      <td>30</td>\n",
              "      <td>0</td>\n",
              "    </tr>\n",
              "    <tr>\n",
              "      <th>36</th>\n",
              "      <td>37</td>\n",
              "      <td>Henry</td>\n",
              "      <td>59</td>\n",
              "      <td>48</td>\n",
              "      <td>2</td>\n",
              "      <td>310</td>\n",
              "      <td>3</td>\n",
              "      <td>267</td>\n",
              "      <td>1</td>\n",
              "      <td>66</td>\n",
              "      <td>379</td>\n",
              "      <td>300</td>\n",
              "      <td>50</td>\n",
              "      <td>55</td>\n",
              "      <td>62</td>\n",
              "      <td>1</td>\n",
              "    </tr>\n",
              "    <tr>\n",
              "      <th>37</th>\n",
              "      <td>38</td>\n",
              "      <td>Roma</td>\n",
              "      <td>62</td>\n",
              "      <td>47</td>\n",
              "      <td>3</td>\n",
              "      <td>465</td>\n",
              "      <td>0</td>\n",
              "      <td>0</td>\n",
              "      <td>4</td>\n",
              "      <td>264</td>\n",
              "      <td>729</td>\n",
              "      <td>500</td>\n",
              "      <td>49</td>\n",
              "      <td>50</td>\n",
              "      <td>53</td>\n",
              "      <td>1</td>\n",
              "    </tr>\n",
              "    <tr>\n",
              "      <th>38</th>\n",
              "      <td>39</td>\n",
              "      <td>Ellen</td>\n",
              "      <td>33</td>\n",
              "      <td>32</td>\n",
              "      <td>6</td>\n",
              "      <td>930</td>\n",
              "      <td>3</td>\n",
              "      <td>267</td>\n",
              "      <td>1</td>\n",
              "      <td>66</td>\n",
              "      <td>999</td>\n",
              "      <td>500</td>\n",
              "      <td>37</td>\n",
              "      <td>47</td>\n",
              "      <td>55</td>\n",
              "      <td>1</td>\n",
              "    </tr>\n",
              "    <tr>\n",
              "      <th>39</th>\n",
              "      <td>40</td>\n",
              "      <td>Faye</td>\n",
              "      <td>37</td>\n",
              "      <td>33</td>\n",
              "      <td>4</td>\n",
              "      <td>620</td>\n",
              "      <td>2</td>\n",
              "      <td>178</td>\n",
              "      <td>2</td>\n",
              "      <td>132</td>\n",
              "      <td>754</td>\n",
              "      <td>600</td>\n",
              "      <td>37</td>\n",
              "      <td>55</td>\n",
              "      <td>63</td>\n",
              "      <td>1</td>\n",
              "    </tr>\n",
              "    <tr>\n",
              "      <th>40</th>\n",
              "      <td>41</td>\n",
              "      <td>Diane</td>\n",
              "      <td>50</td>\n",
              "      <td>43</td>\n",
              "      <td>2</td>\n",
              "      <td>310</td>\n",
              "      <td>3</td>\n",
              "      <td>267</td>\n",
              "      <td>0</td>\n",
              "      <td>0</td>\n",
              "      <td>313</td>\n",
              "      <td>350</td>\n",
              "      <td>44</td>\n",
              "      <td>42</td>\n",
              "      <td>40</td>\n",
              "      <td>0</td>\n",
              "    </tr>\n",
              "    <tr>\n",
              "      <th>41</th>\n",
              "      <td>42</td>\n",
              "      <td>Ben</td>\n",
              "      <td>47</td>\n",
              "      <td>40</td>\n",
              "      <td>2</td>\n",
              "      <td>310</td>\n",
              "      <td>1</td>\n",
              "      <td>89</td>\n",
              "      <td>0</td>\n",
              "      <td>0</td>\n",
              "      <td>311</td>\n",
              "      <td>320</td>\n",
              "      <td>42</td>\n",
              "      <td>43</td>\n",
              "      <td>41</td>\n",
              "      <td>0</td>\n",
              "    </tr>\n",
              "    <tr>\n",
              "      <th>42</th>\n",
              "      <td>43</td>\n",
              "      <td>Gwen</td>\n",
              "      <td>69</td>\n",
              "      <td>50</td>\n",
              "      <td>5</td>\n",
              "      <td>775</td>\n",
              "      <td>4</td>\n",
              "      <td>356</td>\n",
              "      <td>3</td>\n",
              "      <td>198</td>\n",
              "      <td>977</td>\n",
              "      <td>400</td>\n",
              "      <td>55</td>\n",
              "      <td>59</td>\n",
              "      <td>60</td>\n",
              "      <td>1</td>\n",
              "    </tr>\n",
              "    <tr>\n",
              "      <th>43</th>\n",
              "      <td>44</td>\n",
              "      <td>Sissy</td>\n",
              "      <td>63</td>\n",
              "      <td>38</td>\n",
              "      <td>6</td>\n",
              "      <td>930</td>\n",
              "      <td>2</td>\n",
              "      <td>178</td>\n",
              "      <td>2</td>\n",
              "      <td>132</td>\n",
              "      <td>1064</td>\n",
              "      <td>300</td>\n",
              "      <td>39</td>\n",
              "      <td>48</td>\n",
              "      <td>56</td>\n",
              "      <td>1</td>\n",
              "    </tr>\n",
              "    <tr>\n",
              "      <th>44</th>\n",
              "      <td>45</td>\n",
              "      <td>Jessica</td>\n",
              "      <td>39</td>\n",
              "      <td>40</td>\n",
              "      <td>8</td>\n",
              "      <td>1240</td>\n",
              "      <td>5</td>\n",
              "      <td>445</td>\n",
              "      <td>4</td>\n",
              "      <td>264</td>\n",
              "      <td>1509</td>\n",
              "      <td>600</td>\n",
              "      <td>50</td>\n",
              "      <td>62</td>\n",
              "      <td>71</td>\n",
              "      <td>1</td>\n",
              "    </tr>\n",
              "    <tr>\n",
              "      <th>45</th>\n",
              "      <td>46</td>\n",
              "      <td>Gwyneth</td>\n",
              "      <td>21</td>\n",
              "      <td>29</td>\n",
              "      <td>3</td>\n",
              "      <td>465</td>\n",
              "      <td>3</td>\n",
              "      <td>267</td>\n",
              "      <td>3</td>\n",
              "      <td>198</td>\n",
              "      <td>666</td>\n",
              "      <td>500</td>\n",
              "      <td>38</td>\n",
              "      <td>47</td>\n",
              "      <td>55</td>\n",
              "      <td>1</td>\n",
              "    </tr>\n",
              "    <tr>\n",
              "      <th>46</th>\n",
              "      <td>47</td>\n",
              "      <td>Halle</td>\n",
              "      <td>31</td>\n",
              "      <td>30</td>\n",
              "      <td>2</td>\n",
              "      <td>310</td>\n",
              "      <td>2</td>\n",
              "      <td>178</td>\n",
              "      <td>2</td>\n",
              "      <td>132</td>\n",
              "      <td>444</td>\n",
              "      <td>500</td>\n",
              "      <td>35</td>\n",
              "      <td>32</td>\n",
              "      <td>30</td>\n",
              "      <td>0</td>\n",
              "    </tr>\n",
              "    <tr>\n",
              "      <th>47</th>\n",
              "      <td>48</td>\n",
              "      <td>Shefa</td>\n",
              "      <td>28</td>\n",
              "      <td>36</td>\n",
              "      <td>5</td>\n",
              "      <td>775</td>\n",
              "      <td>3</td>\n",
              "      <td>267</td>\n",
              "      <td>1</td>\n",
              "      <td>66</td>\n",
              "      <td>844</td>\n",
              "      <td>900</td>\n",
              "      <td>35</td>\n",
              "      <td>38</td>\n",
              "      <td>35</td>\n",
              "      <td>0</td>\n",
              "    </tr>\n",
              "    <tr>\n",
              "      <th>48</th>\n",
              "      <td>49</td>\n",
              "      <td>Charlize</td>\n",
              "      <td>53</td>\n",
              "      <td>43</td>\n",
              "      <td>2</td>\n",
              "      <td>310</td>\n",
              "      <td>3</td>\n",
              "      <td>267</td>\n",
              "      <td>0</td>\n",
              "      <td>0</td>\n",
              "      <td>313</td>\n",
              "      <td>350</td>\n",
              "      <td>45</td>\n",
              "      <td>48</td>\n",
              "      <td>42</td>\n",
              "      <td>0</td>\n",
              "    </tr>\n",
              "    <tr>\n",
              "      <th>49</th>\n",
              "      <td>50</td>\n",
              "      <td>Robert</td>\n",
              "      <td>62</td>\n",
              "      <td>40</td>\n",
              "      <td>9</td>\n",
              "      <td>1395</td>\n",
              "      <td>5</td>\n",
              "      <td>445</td>\n",
              "      <td>2</td>\n",
              "      <td>132</td>\n",
              "      <td>1532</td>\n",
              "      <td>500</td>\n",
              "      <td>50</td>\n",
              "      <td>62</td>\n",
              "      <td>70</td>\n",
              "      <td>1</td>\n",
              "    </tr>\n",
              "  </tbody>\n",
              "</table>\n",
              "</div>\n",
              "      <button class=\"colab-df-convert\" onclick=\"convertToInteractive('df-70795e3c-13bc-410f-9e98-59d74c56ed55')\"\n",
              "              title=\"Convert this dataframe to an interactive table.\"\n",
              "              style=\"display:none;\">\n",
              "        \n",
              "  <svg xmlns=\"http://www.w3.org/2000/svg\" height=\"24px\"viewBox=\"0 0 24 24\"\n",
              "       width=\"24px\">\n",
              "    <path d=\"M0 0h24v24H0V0z\" fill=\"none\"/>\n",
              "    <path d=\"M18.56 5.44l.94 2.06.94-2.06 2.06-.94-2.06-.94-.94-2.06-.94 2.06-2.06.94zm-11 1L8.5 8.5l.94-2.06 2.06-.94-2.06-.94L8.5 2.5l-.94 2.06-2.06.94zm10 10l.94 2.06.94-2.06 2.06-.94-2.06-.94-.94-2.06-.94 2.06-2.06.94z\"/><path d=\"M17.41 7.96l-1.37-1.37c-.4-.4-.92-.59-1.43-.59-.52 0-1.04.2-1.43.59L10.3 9.45l-7.72 7.72c-.78.78-.78 2.05 0 2.83L4 21.41c.39.39.9.59 1.41.59.51 0 1.02-.2 1.41-.59l7.78-7.78 2.81-2.81c.8-.78.8-2.07 0-2.86zM5.41 20L4 18.59l7.72-7.72 1.47 1.35L5.41 20z\"/>\n",
              "  </svg>\n",
              "      </button>\n",
              "      \n",
              "  <style>\n",
              "    .colab-df-container {\n",
              "      display:flex;\n",
              "      flex-wrap:wrap;\n",
              "      gap: 12px;\n",
              "    }\n",
              "\n",
              "    .colab-df-convert {\n",
              "      background-color: #E8F0FE;\n",
              "      border: none;\n",
              "      border-radius: 50%;\n",
              "      cursor: pointer;\n",
              "      display: none;\n",
              "      fill: #1967D2;\n",
              "      height: 32px;\n",
              "      padding: 0 0 0 0;\n",
              "      width: 32px;\n",
              "    }\n",
              "\n",
              "    .colab-df-convert:hover {\n",
              "      background-color: #E2EBFA;\n",
              "      box-shadow: 0px 1px 2px rgba(60, 64, 67, 0.3), 0px 1px 3px 1px rgba(60, 64, 67, 0.15);\n",
              "      fill: #174EA6;\n",
              "    }\n",
              "\n",
              "    [theme=dark] .colab-df-convert {\n",
              "      background-color: #3B4455;\n",
              "      fill: #D2E3FC;\n",
              "    }\n",
              "\n",
              "    [theme=dark] .colab-df-convert:hover {\n",
              "      background-color: #434B5C;\n",
              "      box-shadow: 0px 1px 3px 1px rgba(0, 0, 0, 0.15);\n",
              "      filter: drop-shadow(0px 1px 2px rgba(0, 0, 0, 0.3));\n",
              "      fill: #FFFFFF;\n",
              "    }\n",
              "  </style>\n",
              "\n",
              "      <script>\n",
              "        const buttonEl =\n",
              "          document.querySelector('#df-70795e3c-13bc-410f-9e98-59d74c56ed55 button.colab-df-convert');\n",
              "        buttonEl.style.display =\n",
              "          google.colab.kernel.accessAllowed ? 'block' : 'none';\n",
              "\n",
              "        async function convertToInteractive(key) {\n",
              "          const element = document.querySelector('#df-70795e3c-13bc-410f-9e98-59d74c56ed55');\n",
              "          const dataTable =\n",
              "            await google.colab.kernel.invokeFunction('convertToInteractive',\n",
              "                                                     [key], {});\n",
              "          if (!dataTable) return;\n",
              "\n",
              "          const docLinkHtml = 'Like what you see? Visit the ' +\n",
              "            '<a target=\"_blank\" href=https://colab.research.google.com/notebooks/data_table.ipynb>data table notebook</a>'\n",
              "            + ' to learn more about interactive tables.';\n",
              "          element.innerHTML = '';\n",
              "          dataTable['output_type'] = 'display_data';\n",
              "          await google.colab.output.renderOutput(dataTable, element);\n",
              "          const docLink = document.createElement('div');\n",
              "          docLink.innerHTML = docLinkHtml;\n",
              "          element.appendChild(docLink);\n",
              "        }\n",
              "      </script>\n",
              "    </div>\n",
              "  </div>\n",
              "  "
            ]
          },
          "metadata": {},
          "execution_count": 6
        }
      ]
    },
    {
      "cell_type": "code",
      "source": [
        "df.info()"
      ],
      "metadata": {
        "colab": {
          "base_uri": "https://localhost:8080/"
        },
        "id": "dOFVoWu6dDir",
        "outputId": "165b3ac7-1ab7-4e2a-e657-6d70919b9f47"
      },
      "execution_count": null,
      "outputs": [
        {
          "output_type": "stream",
          "name": "stdout",
          "text": [
            "<class 'pandas.core.frame.DataFrame'>\n",
            "RangeIndex: 50 entries, 0 to 49\n",
            "Data columns (total 16 columns):\n",
            " #   Column                           Non-Null Count  Dtype \n",
            "---  ------                           --------------  ----- \n",
            " 0   Sno                              50 non-null     int64 \n",
            " 1   Names                            50 non-null     object\n",
            " 2   Age                              50 non-null     int64 \n",
            " 3   Weight                           50 non-null     int64 \n",
            " 4   Boiled Eggs                      50 non-null     int64 \n",
            " 5   Calories in Egg                  50 non-null     int64 \n",
            " 6   banana's                         50 non-null     int64 \n",
            " 7   Calories in banana               50 non-null     int64 \n",
            " 8   supplements                      50 non-null     int64 \n",
            " 9   Calories in supplements          50 non-null     int64 \n",
            " 10  Cal in(total calories consumed)  50 non-null     int64 \n",
            " 11  cal out(gym)                     50 non-null     int64 \n",
            " 12  After 3 months                   50 non-null     int64 \n",
            " 13  After 6 months                   50 non-null     int64 \n",
            " 14  After 1year                      50 non-null     int64 \n",
            " 15  Change(0-1)                      50 non-null     int64 \n",
            "dtypes: int64(15), object(1)\n",
            "memory usage: 6.4+ KB\n"
          ]
        }
      ]
    },
    {
      "cell_type": "code",
      "source": [
        "df.describe()"
      ],
      "metadata": {
        "colab": {
          "base_uri": "https://localhost:8080/",
          "height": 379
        },
        "id": "6WIFSeDMdH6N",
        "outputId": "f3706c7d-61d8-4e80-b26c-11247766ef16"
      },
      "execution_count": null,
      "outputs": [
        {
          "output_type": "execute_result",
          "data": {
            "text/plain": [
              "            Sno        Age     Weight  Boiled Eggs  Calories in Egg  banana's  \\\n",
              "count  50.00000  50.000000  50.000000    50.000000        50.000000  50.00000   \n",
              "mean   25.50000  41.600000  36.040000     3.820000       592.100000   2.62000   \n",
              "std    14.57738  16.196497   8.043149     2.135129       330.944983   1.44123   \n",
              "min     1.00000  18.000000  21.000000     0.000000         0.000000   0.00000   \n",
              "25%    13.25000  28.000000  30.000000     2.000000       310.000000   2.00000   \n",
              "50%    25.50000  38.000000  35.000000     4.000000       620.000000   3.00000   \n",
              "75%    37.75000  55.000000  42.000000     5.000000       775.000000   3.00000   \n",
              "max    50.00000  77.000000  51.000000     9.000000      1395.000000   8.00000   \n",
              "\n",
              "       Calories in banana  supplements  Calories in supplements  \\\n",
              "count           50.000000    50.000000                50.000000   \n",
              "mean           233.180000     1.720000               113.520000   \n",
              "std            128.269437     1.294257                85.420984   \n",
              "min              0.000000     0.000000                 0.000000   \n",
              "25%            178.000000     1.000000                66.000000   \n",
              "50%            267.000000     2.000000               132.000000   \n",
              "75%            267.000000     3.000000               198.000000   \n",
              "max            712.000000     4.000000               264.000000   \n",
              "\n",
              "       Cal in(total calories consumed)  cal out(gym)  After 3 months  \\\n",
              "count                        50.000000     50.000000       50.000000   \n",
              "mean                        708.240000    450.800000       39.640000   \n",
              "std                         360.388711    133.822758        7.963591   \n",
              "min                         136.000000    300.000000       26.000000   \n",
              "25%                         355.000000    350.000000       35.000000   \n",
              "50%                         709.000000    400.000000       38.000000   \n",
              "75%                         977.000000    500.000000       46.000000   \n",
              "max                        1532.000000    900.000000       55.000000   \n",
              "\n",
              "       After 6 months  After 1year  Change(0-1)  \n",
              "count       50.000000    50.000000    50.000000  \n",
              "mean        43.340000    46.140000     0.600000  \n",
              "std         10.078488    13.674063     0.494872  \n",
              "min         24.000000    20.000000     0.000000  \n",
              "25%         35.750000    34.250000     0.000000  \n",
              "50%         43.500000    48.500000     1.000000  \n",
              "75%         50.000000    55.750000     1.000000  \n",
              "max         62.000000    71.000000     1.000000  "
            ],
            "text/html": [
              "\n",
              "  <div id=\"df-aedfd10c-23b0-4b66-9764-646c21524c6a\">\n",
              "    <div class=\"colab-df-container\">\n",
              "      <div>\n",
              "<style scoped>\n",
              "    .dataframe tbody tr th:only-of-type {\n",
              "        vertical-align: middle;\n",
              "    }\n",
              "\n",
              "    .dataframe tbody tr th {\n",
              "        vertical-align: top;\n",
              "    }\n",
              "\n",
              "    .dataframe thead th {\n",
              "        text-align: right;\n",
              "    }\n",
              "</style>\n",
              "<table border=\"1\" class=\"dataframe\">\n",
              "  <thead>\n",
              "    <tr style=\"text-align: right;\">\n",
              "      <th></th>\n",
              "      <th>Sno</th>\n",
              "      <th>Age</th>\n",
              "      <th>Weight</th>\n",
              "      <th>Boiled Eggs</th>\n",
              "      <th>Calories in Egg</th>\n",
              "      <th>banana's</th>\n",
              "      <th>Calories in banana</th>\n",
              "      <th>supplements</th>\n",
              "      <th>Calories in supplements</th>\n",
              "      <th>Cal in(total calories consumed)</th>\n",
              "      <th>cal out(gym)</th>\n",
              "      <th>After 3 months</th>\n",
              "      <th>After 6 months</th>\n",
              "      <th>After 1year</th>\n",
              "      <th>Change(0-1)</th>\n",
              "    </tr>\n",
              "  </thead>\n",
              "  <tbody>\n",
              "    <tr>\n",
              "      <th>count</th>\n",
              "      <td>50.00000</td>\n",
              "      <td>50.000000</td>\n",
              "      <td>50.000000</td>\n",
              "      <td>50.000000</td>\n",
              "      <td>50.000000</td>\n",
              "      <td>50.00000</td>\n",
              "      <td>50.000000</td>\n",
              "      <td>50.000000</td>\n",
              "      <td>50.000000</td>\n",
              "      <td>50.000000</td>\n",
              "      <td>50.000000</td>\n",
              "      <td>50.000000</td>\n",
              "      <td>50.000000</td>\n",
              "      <td>50.000000</td>\n",
              "      <td>50.000000</td>\n",
              "    </tr>\n",
              "    <tr>\n",
              "      <th>mean</th>\n",
              "      <td>25.50000</td>\n",
              "      <td>41.600000</td>\n",
              "      <td>36.040000</td>\n",
              "      <td>3.820000</td>\n",
              "      <td>592.100000</td>\n",
              "      <td>2.62000</td>\n",
              "      <td>233.180000</td>\n",
              "      <td>1.720000</td>\n",
              "      <td>113.520000</td>\n",
              "      <td>708.240000</td>\n",
              "      <td>450.800000</td>\n",
              "      <td>39.640000</td>\n",
              "      <td>43.340000</td>\n",
              "      <td>46.140000</td>\n",
              "      <td>0.600000</td>\n",
              "    </tr>\n",
              "    <tr>\n",
              "      <th>std</th>\n",
              "      <td>14.57738</td>\n",
              "      <td>16.196497</td>\n",
              "      <td>8.043149</td>\n",
              "      <td>2.135129</td>\n",
              "      <td>330.944983</td>\n",
              "      <td>1.44123</td>\n",
              "      <td>128.269437</td>\n",
              "      <td>1.294257</td>\n",
              "      <td>85.420984</td>\n",
              "      <td>360.388711</td>\n",
              "      <td>133.822758</td>\n",
              "      <td>7.963591</td>\n",
              "      <td>10.078488</td>\n",
              "      <td>13.674063</td>\n",
              "      <td>0.494872</td>\n",
              "    </tr>\n",
              "    <tr>\n",
              "      <th>min</th>\n",
              "      <td>1.00000</td>\n",
              "      <td>18.000000</td>\n",
              "      <td>21.000000</td>\n",
              "      <td>0.000000</td>\n",
              "      <td>0.000000</td>\n",
              "      <td>0.00000</td>\n",
              "      <td>0.000000</td>\n",
              "      <td>0.000000</td>\n",
              "      <td>0.000000</td>\n",
              "      <td>136.000000</td>\n",
              "      <td>300.000000</td>\n",
              "      <td>26.000000</td>\n",
              "      <td>24.000000</td>\n",
              "      <td>20.000000</td>\n",
              "      <td>0.000000</td>\n",
              "    </tr>\n",
              "    <tr>\n",
              "      <th>25%</th>\n",
              "      <td>13.25000</td>\n",
              "      <td>28.000000</td>\n",
              "      <td>30.000000</td>\n",
              "      <td>2.000000</td>\n",
              "      <td>310.000000</td>\n",
              "      <td>2.00000</td>\n",
              "      <td>178.000000</td>\n",
              "      <td>1.000000</td>\n",
              "      <td>66.000000</td>\n",
              "      <td>355.000000</td>\n",
              "      <td>350.000000</td>\n",
              "      <td>35.000000</td>\n",
              "      <td>35.750000</td>\n",
              "      <td>34.250000</td>\n",
              "      <td>0.000000</td>\n",
              "    </tr>\n",
              "    <tr>\n",
              "      <th>50%</th>\n",
              "      <td>25.50000</td>\n",
              "      <td>38.000000</td>\n",
              "      <td>35.000000</td>\n",
              "      <td>4.000000</td>\n",
              "      <td>620.000000</td>\n",
              "      <td>3.00000</td>\n",
              "      <td>267.000000</td>\n",
              "      <td>2.000000</td>\n",
              "      <td>132.000000</td>\n",
              "      <td>709.000000</td>\n",
              "      <td>400.000000</td>\n",
              "      <td>38.000000</td>\n",
              "      <td>43.500000</td>\n",
              "      <td>48.500000</td>\n",
              "      <td>1.000000</td>\n",
              "    </tr>\n",
              "    <tr>\n",
              "      <th>75%</th>\n",
              "      <td>37.75000</td>\n",
              "      <td>55.000000</td>\n",
              "      <td>42.000000</td>\n",
              "      <td>5.000000</td>\n",
              "      <td>775.000000</td>\n",
              "      <td>3.00000</td>\n",
              "      <td>267.000000</td>\n",
              "      <td>3.000000</td>\n",
              "      <td>198.000000</td>\n",
              "      <td>977.000000</td>\n",
              "      <td>500.000000</td>\n",
              "      <td>46.000000</td>\n",
              "      <td>50.000000</td>\n",
              "      <td>55.750000</td>\n",
              "      <td>1.000000</td>\n",
              "    </tr>\n",
              "    <tr>\n",
              "      <th>max</th>\n",
              "      <td>50.00000</td>\n",
              "      <td>77.000000</td>\n",
              "      <td>51.000000</td>\n",
              "      <td>9.000000</td>\n",
              "      <td>1395.000000</td>\n",
              "      <td>8.00000</td>\n",
              "      <td>712.000000</td>\n",
              "      <td>4.000000</td>\n",
              "      <td>264.000000</td>\n",
              "      <td>1532.000000</td>\n",
              "      <td>900.000000</td>\n",
              "      <td>55.000000</td>\n",
              "      <td>62.000000</td>\n",
              "      <td>71.000000</td>\n",
              "      <td>1.000000</td>\n",
              "    </tr>\n",
              "  </tbody>\n",
              "</table>\n",
              "</div>\n",
              "      <button class=\"colab-df-convert\" onclick=\"convertToInteractive('df-aedfd10c-23b0-4b66-9764-646c21524c6a')\"\n",
              "              title=\"Convert this dataframe to an interactive table.\"\n",
              "              style=\"display:none;\">\n",
              "        \n",
              "  <svg xmlns=\"http://www.w3.org/2000/svg\" height=\"24px\"viewBox=\"0 0 24 24\"\n",
              "       width=\"24px\">\n",
              "    <path d=\"M0 0h24v24H0V0z\" fill=\"none\"/>\n",
              "    <path d=\"M18.56 5.44l.94 2.06.94-2.06 2.06-.94-2.06-.94-.94-2.06-.94 2.06-2.06.94zm-11 1L8.5 8.5l.94-2.06 2.06-.94-2.06-.94L8.5 2.5l-.94 2.06-2.06.94zm10 10l.94 2.06.94-2.06 2.06-.94-2.06-.94-.94-2.06-.94 2.06-2.06.94z\"/><path d=\"M17.41 7.96l-1.37-1.37c-.4-.4-.92-.59-1.43-.59-.52 0-1.04.2-1.43.59L10.3 9.45l-7.72 7.72c-.78.78-.78 2.05 0 2.83L4 21.41c.39.39.9.59 1.41.59.51 0 1.02-.2 1.41-.59l7.78-7.78 2.81-2.81c.8-.78.8-2.07 0-2.86zM5.41 20L4 18.59l7.72-7.72 1.47 1.35L5.41 20z\"/>\n",
              "  </svg>\n",
              "      </button>\n",
              "      \n",
              "  <style>\n",
              "    .colab-df-container {\n",
              "      display:flex;\n",
              "      flex-wrap:wrap;\n",
              "      gap: 12px;\n",
              "    }\n",
              "\n",
              "    .colab-df-convert {\n",
              "      background-color: #E8F0FE;\n",
              "      border: none;\n",
              "      border-radius: 50%;\n",
              "      cursor: pointer;\n",
              "      display: none;\n",
              "      fill: #1967D2;\n",
              "      height: 32px;\n",
              "      padding: 0 0 0 0;\n",
              "      width: 32px;\n",
              "    }\n",
              "\n",
              "    .colab-df-convert:hover {\n",
              "      background-color: #E2EBFA;\n",
              "      box-shadow: 0px 1px 2px rgba(60, 64, 67, 0.3), 0px 1px 3px 1px rgba(60, 64, 67, 0.15);\n",
              "      fill: #174EA6;\n",
              "    }\n",
              "\n",
              "    [theme=dark] .colab-df-convert {\n",
              "      background-color: #3B4455;\n",
              "      fill: #D2E3FC;\n",
              "    }\n",
              "\n",
              "    [theme=dark] .colab-df-convert:hover {\n",
              "      background-color: #434B5C;\n",
              "      box-shadow: 0px 1px 3px 1px rgba(0, 0, 0, 0.15);\n",
              "      filter: drop-shadow(0px 1px 2px rgba(0, 0, 0, 0.3));\n",
              "      fill: #FFFFFF;\n",
              "    }\n",
              "  </style>\n",
              "\n",
              "      <script>\n",
              "        const buttonEl =\n",
              "          document.querySelector('#df-aedfd10c-23b0-4b66-9764-646c21524c6a button.colab-df-convert');\n",
              "        buttonEl.style.display =\n",
              "          google.colab.kernel.accessAllowed ? 'block' : 'none';\n",
              "\n",
              "        async function convertToInteractive(key) {\n",
              "          const element = document.querySelector('#df-aedfd10c-23b0-4b66-9764-646c21524c6a');\n",
              "          const dataTable =\n",
              "            await google.colab.kernel.invokeFunction('convertToInteractive',\n",
              "                                                     [key], {});\n",
              "          if (!dataTable) return;\n",
              "\n",
              "          const docLinkHtml = 'Like what you see? Visit the ' +\n",
              "            '<a target=\"_blank\" href=https://colab.research.google.com/notebooks/data_table.ipynb>data table notebook</a>'\n",
              "            + ' to learn more about interactive tables.';\n",
              "          element.innerHTML = '';\n",
              "          dataTable['output_type'] = 'display_data';\n",
              "          await google.colab.output.renderOutput(dataTable, element);\n",
              "          const docLink = document.createElement('div');\n",
              "          docLink.innerHTML = docLinkHtml;\n",
              "          element.appendChild(docLink);\n",
              "        }\n",
              "      </script>\n",
              "    </div>\n",
              "  </div>\n",
              "  "
            ]
          },
          "metadata": {},
          "execution_count": 8
        }
      ]
    },
    {
      "cell_type": "code",
      "source": [
        "df.sample()"
      ],
      "metadata": {
        "colab": {
          "base_uri": "https://localhost:8080/",
          "height": 142
        },
        "id": "APGyTEyddMT8",
        "outputId": "697c9f98-1746-49d9-befe-fbccbe023e71"
      },
      "execution_count": null,
      "outputs": [
        {
          "output_type": "execute_result",
          "data": {
            "text/plain": [
              "   Sno  Names  Age  Weight  Boiled Eggs  Calories in Egg  banana's  \\\n",
              "4    5  Diego   68      45            5              775         4   \n",
              "\n",
              "   Calories in banana  supplements  Calories in supplements  \\\n",
              "4                 356            3                      198   \n",
              "\n",
              "   Cal in(total calories consumed)  cal out(gym)  After 3 months  \\\n",
              "4                              977           400              48   \n",
              "\n",
              "   After 6 months  After 1year  Change(0-1)  \n",
              "4              52           55            1  "
            ],
            "text/html": [
              "\n",
              "  <div id=\"df-07ac61c3-1f73-4395-ad73-b1e81ca3872c\">\n",
              "    <div class=\"colab-df-container\">\n",
              "      <div>\n",
              "<style scoped>\n",
              "    .dataframe tbody tr th:only-of-type {\n",
              "        vertical-align: middle;\n",
              "    }\n",
              "\n",
              "    .dataframe tbody tr th {\n",
              "        vertical-align: top;\n",
              "    }\n",
              "\n",
              "    .dataframe thead th {\n",
              "        text-align: right;\n",
              "    }\n",
              "</style>\n",
              "<table border=\"1\" class=\"dataframe\">\n",
              "  <thead>\n",
              "    <tr style=\"text-align: right;\">\n",
              "      <th></th>\n",
              "      <th>Sno</th>\n",
              "      <th>Names</th>\n",
              "      <th>Age</th>\n",
              "      <th>Weight</th>\n",
              "      <th>Boiled Eggs</th>\n",
              "      <th>Calories in Egg</th>\n",
              "      <th>banana's</th>\n",
              "      <th>Calories in banana</th>\n",
              "      <th>supplements</th>\n",
              "      <th>Calories in supplements</th>\n",
              "      <th>Cal in(total calories consumed)</th>\n",
              "      <th>cal out(gym)</th>\n",
              "      <th>After 3 months</th>\n",
              "      <th>After 6 months</th>\n",
              "      <th>After 1year</th>\n",
              "      <th>Change(0-1)</th>\n",
              "    </tr>\n",
              "  </thead>\n",
              "  <tbody>\n",
              "    <tr>\n",
              "      <th>4</th>\n",
              "      <td>5</td>\n",
              "      <td>Diego</td>\n",
              "      <td>68</td>\n",
              "      <td>45</td>\n",
              "      <td>5</td>\n",
              "      <td>775</td>\n",
              "      <td>4</td>\n",
              "      <td>356</td>\n",
              "      <td>3</td>\n",
              "      <td>198</td>\n",
              "      <td>977</td>\n",
              "      <td>400</td>\n",
              "      <td>48</td>\n",
              "      <td>52</td>\n",
              "      <td>55</td>\n",
              "      <td>1</td>\n",
              "    </tr>\n",
              "  </tbody>\n",
              "</table>\n",
              "</div>\n",
              "      <button class=\"colab-df-convert\" onclick=\"convertToInteractive('df-07ac61c3-1f73-4395-ad73-b1e81ca3872c')\"\n",
              "              title=\"Convert this dataframe to an interactive table.\"\n",
              "              style=\"display:none;\">\n",
              "        \n",
              "  <svg xmlns=\"http://www.w3.org/2000/svg\" height=\"24px\"viewBox=\"0 0 24 24\"\n",
              "       width=\"24px\">\n",
              "    <path d=\"M0 0h24v24H0V0z\" fill=\"none\"/>\n",
              "    <path d=\"M18.56 5.44l.94 2.06.94-2.06 2.06-.94-2.06-.94-.94-2.06-.94 2.06-2.06.94zm-11 1L8.5 8.5l.94-2.06 2.06-.94-2.06-.94L8.5 2.5l-.94 2.06-2.06.94zm10 10l.94 2.06.94-2.06 2.06-.94-2.06-.94-.94-2.06-.94 2.06-2.06.94z\"/><path d=\"M17.41 7.96l-1.37-1.37c-.4-.4-.92-.59-1.43-.59-.52 0-1.04.2-1.43.59L10.3 9.45l-7.72 7.72c-.78.78-.78 2.05 0 2.83L4 21.41c.39.39.9.59 1.41.59.51 0 1.02-.2 1.41-.59l7.78-7.78 2.81-2.81c.8-.78.8-2.07 0-2.86zM5.41 20L4 18.59l7.72-7.72 1.47 1.35L5.41 20z\"/>\n",
              "  </svg>\n",
              "      </button>\n",
              "      \n",
              "  <style>\n",
              "    .colab-df-container {\n",
              "      display:flex;\n",
              "      flex-wrap:wrap;\n",
              "      gap: 12px;\n",
              "    }\n",
              "\n",
              "    .colab-df-convert {\n",
              "      background-color: #E8F0FE;\n",
              "      border: none;\n",
              "      border-radius: 50%;\n",
              "      cursor: pointer;\n",
              "      display: none;\n",
              "      fill: #1967D2;\n",
              "      height: 32px;\n",
              "      padding: 0 0 0 0;\n",
              "      width: 32px;\n",
              "    }\n",
              "\n",
              "    .colab-df-convert:hover {\n",
              "      background-color: #E2EBFA;\n",
              "      box-shadow: 0px 1px 2px rgba(60, 64, 67, 0.3), 0px 1px 3px 1px rgba(60, 64, 67, 0.15);\n",
              "      fill: #174EA6;\n",
              "    }\n",
              "\n",
              "    [theme=dark] .colab-df-convert {\n",
              "      background-color: #3B4455;\n",
              "      fill: #D2E3FC;\n",
              "    }\n",
              "\n",
              "    [theme=dark] .colab-df-convert:hover {\n",
              "      background-color: #434B5C;\n",
              "      box-shadow: 0px 1px 3px 1px rgba(0, 0, 0, 0.15);\n",
              "      filter: drop-shadow(0px 1px 2px rgba(0, 0, 0, 0.3));\n",
              "      fill: #FFFFFF;\n",
              "    }\n",
              "  </style>\n",
              "\n",
              "      <script>\n",
              "        const buttonEl =\n",
              "          document.querySelector('#df-07ac61c3-1f73-4395-ad73-b1e81ca3872c button.colab-df-convert');\n",
              "        buttonEl.style.display =\n",
              "          google.colab.kernel.accessAllowed ? 'block' : 'none';\n",
              "\n",
              "        async function convertToInteractive(key) {\n",
              "          const element = document.querySelector('#df-07ac61c3-1f73-4395-ad73-b1e81ca3872c');\n",
              "          const dataTable =\n",
              "            await google.colab.kernel.invokeFunction('convertToInteractive',\n",
              "                                                     [key], {});\n",
              "          if (!dataTable) return;\n",
              "\n",
              "          const docLinkHtml = 'Like what you see? Visit the ' +\n",
              "            '<a target=\"_blank\" href=https://colab.research.google.com/notebooks/data_table.ipynb>data table notebook</a>'\n",
              "            + ' to learn more about interactive tables.';\n",
              "          element.innerHTML = '';\n",
              "          dataTable['output_type'] = 'display_data';\n",
              "          await google.colab.output.renderOutput(dataTable, element);\n",
              "          const docLink = document.createElement('div');\n",
              "          docLink.innerHTML = docLinkHtml;\n",
              "          element.appendChild(docLink);\n",
              "        }\n",
              "      </script>\n",
              "    </div>\n",
              "  </div>\n",
              "  "
            ]
          },
          "metadata": {},
          "execution_count": 9
        }
      ]
    },
    {
      "cell_type": "code",
      "source": [
        "df.dtypes"
      ],
      "metadata": {
        "colab": {
          "base_uri": "https://localhost:8080/"
        },
        "id": "O7FHyV6OdRFb",
        "outputId": "d8f59b2e-c0e0-4fb2-f9b3-dc1903558405"
      },
      "execution_count": null,
      "outputs": [
        {
          "output_type": "execute_result",
          "data": {
            "text/plain": [
              "Sno                                 int64\n",
              "Names                              object\n",
              "Age                                 int64\n",
              "Weight                              int64\n",
              "Boiled Eggs                         int64\n",
              "Calories in Egg                     int64\n",
              "banana's                            int64\n",
              "Calories in banana                  int64\n",
              "supplements                         int64\n",
              "Calories in supplements             int64\n",
              "Cal in(total calories consumed)     int64\n",
              "cal out(gym)                        int64\n",
              "After 3 months                      int64\n",
              "After 6 months                      int64\n",
              "After 1year                         int64\n",
              "Change(0-1)                         int64\n",
              "dtype: object"
            ]
          },
          "metadata": {},
          "execution_count": 10
        }
      ]
    },
    {
      "cell_type": "code",
      "source": [
        "df.columns"
      ],
      "metadata": {
        "colab": {
          "base_uri": "https://localhost:8080/"
        },
        "id": "SKQ1kqIfdkWu",
        "outputId": "684fef27-ca5b-408a-b82a-867abe77c159"
      },
      "execution_count": null,
      "outputs": [
        {
          "output_type": "execute_result",
          "data": {
            "text/plain": [
              "Index(['Sno', 'Names', 'Age', 'Weight', 'Boiled Eggs', 'Calories in Egg',\n",
              "       'banana's', 'Calories in banana', 'supplements',\n",
              "       'Calories in supplements', 'Cal in(total calories consumed)',\n",
              "       'cal out(gym)', 'After 3 months', 'After 6 months', 'After 1year',\n",
              "       'Change(0-1)'],\n",
              "      dtype='object')"
            ]
          },
          "metadata": {},
          "execution_count": 11
        }
      ]
    },
    {
      "cell_type": "code",
      "source": [
        "df.count()"
      ],
      "metadata": {
        "colab": {
          "base_uri": "https://localhost:8080/"
        },
        "id": "h8_JM47wdoCb",
        "outputId": "51ac4171-a5e5-4d31-e421-8c71ec824981"
      },
      "execution_count": null,
      "outputs": [
        {
          "output_type": "execute_result",
          "data": {
            "text/plain": [
              "Sno                                50\n",
              "Names                              50\n",
              "Age                                50\n",
              "Weight                             50\n",
              "Boiled Eggs                        50\n",
              "Calories in Egg                    50\n",
              "banana's                           50\n",
              "Calories in banana                 50\n",
              "supplements                        50\n",
              "Calories in supplements            50\n",
              "Cal in(total calories consumed)    50\n",
              "cal out(gym)                       50\n",
              "After 3 months                     50\n",
              "After 6 months                     50\n",
              "After 1year                        50\n",
              "Change(0-1)                        50\n",
              "dtype: int64"
            ]
          },
          "metadata": {},
          "execution_count": 12
        }
      ]
    },
    {
      "cell_type": "code",
      "source": [
        "import pandas as pd\n",
        "import seaborn as sn\n",
        "import matplotlib.pyplot as plt"
      ],
      "metadata": {
        "id": "-Pm_xDSEdsTH"
      },
      "execution_count": null,
      "outputs": []
    },
    {
      "cell_type": "code",
      "source": [
        "df.Age.plot.bar()"
      ],
      "metadata": {
        "colab": {
          "base_uri": "https://localhost:8080/",
          "height": 287
        },
        "id": "79AK8-CMdx3G",
        "outputId": "0f0f8d28-ceda-4671-b7f2-830064b26216"
      },
      "execution_count": null,
      "outputs": [
        {
          "output_type": "execute_result",
          "data": {
            "text/plain": [
              "<matplotlib.axes._subplots.AxesSubplot at 0x7fa7b6a63a10>"
            ]
          },
          "metadata": {},
          "execution_count": 14
        },
        {
          "output_type": "display_data",
          "data": {
            "text/plain": [
              "<Figure size 432x288 with 1 Axes>"
            ],
            "image/png": "[encoded data removed]"
          },
          "metadata": {
            "needs_background": "light"
          }
        }
      ]
    },
    {
      "cell_type": "code",
      "source": [
        "df.Weight.plot.bar()"
      ],
      "metadata": {
        "colab": {
          "base_uri": "https://localhost:8080/",
          "height": 285
        },
        "id": "UL3w7u7beCZ7",
        "outputId": "02f85ffe-b08d-465e-bbde-262faa98dc83"
      },
      "execution_count": null,
      "outputs": [
        {
          "output_type": "execute_result",
          "data": {
            "text/plain": [
              "<matplotlib.axes._subplots.AxesSubplot at 0x7fa7b68ee350>"
            ]
          },
          "metadata": {},
          "execution_count": 15
        },
        {
          "output_type": "display_data",
          "data": {
            "text/plain": [
              "<Figure size 432x288 with 1 Axes>"
            ],
            "image/png": "[encoded data removed]"
          },
          "metadata": {
            "needs_background": "light"
          }
        }
      ]
    },
    {
      "cell_type": "code",
      "source": [
        "df.supplements.plot.barh()"
      ],
      "metadata": {
        "colab": {
          "base_uri": "https://localhost:8080/",
          "height": 284
        },
        "id": "90HEhknDeQbl",
        "outputId": "7fd9f26d-9d2b-4826-fdda-19d41f80ee17"
      },
      "execution_count": null,
      "outputs": [
        {
          "output_type": "execute_result",
          "data": {
            "text/plain": [
              "<matplotlib.axes._subplots.AxesSubplot at 0x7fa7b6148990>"
            ]
          },
          "metadata": {},
          "execution_count": 21
        },
        {
          "output_type": "display_data",
          "data": {
            "text/plain": [
              "<Figure size 432x288 with 1 Axes>"
            ],
            "image/png": "[encoded data removed]"
          },
          "metadata": {
            "needs_background": "light"
          }
        }
      ]
    },
    {
      "cell_type": "code",
      "source": [
        "df=df.rename({'Cal in(total calories consumed)':'Intake','cal out(gym)':'Out'},axis=1)\n",
        "df=df.rename({'After 3month':'3month','After 6months':'6months','After 1year':'1year'},axis=1)"
      ],
      "metadata": {
        "id": "FPAo3ij2gSSw"
      },
      "execution_count": null,
      "outputs": []
    },
    {
      "cell_type": "code",
      "source": [
        "df.columns"
      ],
      "metadata": {
        "colab": {
          "base_uri": "https://localhost:8080/"
        },
        "id": "IFJo_rCigYlE",
        "outputId": "44da9068-933b-4ca3-90d7-68a1f2675d61"
      },
      "execution_count": null,
      "outputs": [
        {
          "output_type": "execute_result",
          "data": {
            "text/plain": [
              "Index(['Sno', 'Names', 'Age', 'Weight', 'Boiled Eggs', 'Calories in Egg',\n",
              "       'banana's', 'Calories in banana', 'supplements',\n",
              "       'Calories in supplements', 'Intake', 'Out', 'After 3 months',\n",
              "       'After 6 months', 'After 1year', 'Change(0-1)'],\n",
              "      dtype='object')"
            ]
          },
          "metadata": {},
          "execution_count": 29
        }
      ]
    },
    {
      "cell_type": "code",
      "source": [
        "import matplotlib.pyplot as plt\n",
        "plt.figure(figsize=(9,9))\n",
        "plt.title('Calories analysis')\n",
        "plt.xlabel(\"Intake\")\n",
        "plt.ylabel(\"Out\")\n",
        "plt.bar(df.Intake,df.Out)\n",
        "plt.show()"
      ],
      "metadata": {
        "colab": {
          "base_uri": "https://localhost:8080/",
          "height": 567
        },
        "id": "FNpUnti7gkdW",
        "outputId": "9fed9e8a-29b3-4525-f419-9cadb127ec84"
      },
      "execution_count": null,
      "outputs": [
        {
          "output_type": "display_data",
          "data": {
            "text/plain": [
              "<Figure size 648x648 with 1 Axes>"
            ],
            "image/png": "[encoded data removed]"
          },
          "metadata": {
            "needs_background": "light"
          }
        }
      ]
    },
    {
      "cell_type": "code",
      "source": [
        "import seaborn as sns\n",
        "sns.barplot(x='Intake',y='Out',data=df,palette=\"Blues\")\n",
        "plt.figure(figsize=(9,9))\n",
        "\n",
        "\n",
        "plt.show()"
      ],
      "metadata": {
        "colab": {
          "base_uri": "https://localhost:8080/",
          "height": 296
        },
        "id": "Hi-xVVQCh9Wi",
        "outputId": "c42368c1-7135-427e-ea6f-7d99d9c43bae"
      },
      "execution_count": null,
      "outputs": [
        {
          "output_type": "display_data",
          "data": {
            "text/plain": [
              "<Figure size 432x288 with 1 Axes>"
            ],
            "image/png": "[encoded data removed]"
          },
          "metadata": {
            "needs_background": "light"
          }
        },
        {
          "output_type": "display_data",
          "data": {
            "text/plain": [
              "<Figure size 648x648 with 0 Axes>"
            ]
          },
          "metadata": {}
        }
      ]
    },
    {
      "cell_type": "code",
      "source": [
        "sns.barplot(x='Intake',y='Out',hue='Change(0-1)',data=df,palette=\"Blues\")\n",
        "plt.title('Calories analysis')\n",
        "plt.xlabel(\"Intake\")\n",
        "plt.ylabel(\"Out\")\n",
        "plt.show()"
      ],
      "metadata": {
        "colab": {
          "base_uri": "https://localhost:8080/",
          "height": 295
        },
        "id": "jYD-L-WHiFrU",
        "outputId": "fedc79db-6a03-4b03-dfdf-34b76611c533"
      },
      "execution_count": null,
      "outputs": [
        {
          "output_type": "display_data",
          "data": {
            "text/plain": [
              "<Figure size 432x288 with 1 Axes>"
            ],
            "image/png": "[encoded data removed]"
          },
          "metadata": {
            "needs_background": "light"
          }
        }
      ]
    },
    {
      "cell_type": "code",
      "source": [
        "df.Age.hist()"
      ],
      "metadata": {
        "colab": {
          "base_uri": "https://localhost:8080/",
          "height": 282
        },
        "id": "Dw52xeKeka61",
        "outputId": "1fc49376-9bec-4409-a1cf-ceb14f5343a8"
      },
      "execution_count": null,
      "outputs": [
        {
          "output_type": "execute_result",
          "data": {
            "text/plain": [
              "<matplotlib.axes._subplots.AxesSubplot at 0x7fa7b57af1d0>"
            ]
          },
          "metadata": {},
          "execution_count": 48
        },
        {
          "output_type": "display_data",
          "data": {
            "text/plain": [
              "<Figure size 432x288 with 1 Axes>"
            ],
            "image/png": "[encoded data removed]"
          },
          "metadata": {
            "needs_background": "light"
          }
        }
      ]
    },
    {
      "cell_type": "code",
      "source": [
        "df.Age.hist(bins=2)"
      ],
      "metadata": {
        "colab": {
          "base_uri": "https://localhost:8080/",
          "height": 282
        },
        "id": "89GiFz2ml2Jm",
        "outputId": "e930a238-5809-4d38-8bb5-919f7fa136b3"
      },
      "execution_count": null,
      "outputs": [
        {
          "output_type": "execute_result",
          "data": {
            "text/plain": [
              "<matplotlib.axes._subplots.AxesSubplot at 0x7fa7b565e810>"
            ]
          },
          "metadata": {},
          "execution_count": 49
        },
        {
          "output_type": "display_data",
          "data": {
            "text/plain": [
              "<Figure size 432x288 with 1 Axes>"
            ],
            "image/png": "[encoded data removed]"
          },
          "metadata": {
            "needs_background": "light"
          }
        }
      ]
    },
    {
      "cell_type": "code",
      "source": [
        "df.hist(column='Intake',by=\"Out\",bins =12)"
      ],
      "metadata": {
        "colab": {
          "base_uri": "https://localhost:8080/",
          "height": 524
        },
        "id": "G0uEzfP6mLv3",
        "outputId": "2da00f20-8732-4225-d973-eed75b4e92c4"
      },
      "execution_count": null,
      "outputs": [
        {
          "output_type": "execute_result",
          "data": {
            "text/plain": [
              "array([[<matplotlib.axes._subplots.AxesSubplot object at 0x7fa7b5763950>,\n",
              "        <matplotlib.axes._subplots.AxesSubplot object at 0x7fa7b576ee90>,\n",
              "        <matplotlib.axes._subplots.AxesSubplot object at 0x7fa7b588fd10>],\n",
              "       [<matplotlib.axes._subplots.AxesSubplot object at 0x7fa7b5971850>,\n",
              "        <matplotlib.axes._subplots.AxesSubplot object at 0x7fa7b58c4310>,\n",
              "        <matplotlib.axes._subplots.AxesSubplot object at 0x7fa7b59e0d50>],\n",
              "       [<matplotlib.axes._subplots.AxesSubplot object at 0x7fa7b5b3a750>,\n",
              "        <matplotlib.axes._subplots.AxesSubplot object at 0x7fa7b5b60690>,\n",
              "        <matplotlib.axes._subplots.AxesSubplot object at 0x7fa7b5c0e910>],\n",
              "       [<matplotlib.axes._subplots.AxesSubplot object at 0x7fa7b5cfb9d0>,\n",
              "        <matplotlib.axes._subplots.AxesSubplot object at 0x7fa7b6294f90>,\n",
              "        <matplotlib.axes._subplots.AxesSubplot object at 0x7fa7b68fc250>]],\n",
              "      dtype=object)"
            ]
          },
          "metadata": {},
          "execution_count": 50
        },
        {
          "output_type": "display_data",
          "data": {
            "text/plain": [
              "<Figure size 432x288 with 12 Axes>"
            ],
            "image/png": "[encoded data removed]"
          },
          "metadata": {
            "needs_background": "light"
          }
        }
      ]
    },
    {
      "cell_type": "code",
      "source": [
        "df.columns"
      ],
      "metadata": {
        "colab": {
          "base_uri": "https://localhost:8080/"
        },
        "id": "1HHjN-yXmOCf",
        "outputId": "86daf82c-8eb1-4308-da67-1cc8f6d1932f"
      },
      "execution_count": null,
      "outputs": [
        {
          "output_type": "execute_result",
          "data": {
            "text/plain": [
              "Index(['Sno', 'Names', 'Age', 'Weight', 'Boiled Eggs', 'Calories in Egg',\n",
              "       'banana's', 'Calories in banana', 'supplements',\n",
              "       'Calories in supplements', 'Intake', 'Out', 'After 3 months',\n",
              "       'After 6 months', 'After 1year', 'Change(0-1)'],\n",
              "      dtype='object')"
            ]
          },
          "metadata": {},
          "execution_count": 51
        }
      ]
    },
    {
      "cell_type": "code",
      "source": [
        "plt.xlabel(\"Weight\")\n",
        "plt.ylabel(\"supplements\")\n",
        "plt.scatter(df.Weight,df.supplements)\n",
        "plt.show()"
      ],
      "metadata": {
        "colab": {
          "base_uri": "https://localhost:8080/",
          "height": 279
        },
        "id": "DGnIXzuimU2j",
        "outputId": "4ab2d5d5-9822-405d-c30b-3aa34265400f"
      },
      "execution_count": null,
      "outputs": [
        {
          "output_type": "display_data",
          "data": {
            "text/plain": [
              "<Figure size 432x288 with 1 Axes>"
            ],
            "image/png": "[encoded data removed]"
          },
          "metadata": {
            "needs_background": "light"
          }
        }
      ]
    },
    {
      "cell_type": "code",
      "source": [
        "df=df.rename({'Cal in(total calories consumed)':'Intake','cal out(gym)':'Out'},axis=1)\n",
        "df=df.rename({'After 3month':'3month','After 6months':'6months','After 1year':'1year'},axis=0)"
      ],
      "metadata": {
        "id": "XeLQrMJ2my7J"
      },
      "execution_count": null,
      "outputs": []
    },
    {
      "cell_type": "code",
      "source": [
        "df.columns"
      ],
      "metadata": {
        "colab": {
          "base_uri": "https://localhost:8080/"
        },
        "id": "aWw-AaEbngvL",
        "outputId": "800ac36e-bfae-4c04-9a6a-de89e3256617"
      },
      "execution_count": null,
      "outputs": [
        {
          "output_type": "execute_result",
          "data": {
            "text/plain": [
              "Index(['Sno', 'Names', 'Age', 'Weight', 'Boiled Eggs', 'Calories in Egg',\n",
              "       'banana's', 'Calories in banana', 'supplements',\n",
              "       'Calories in supplements', 'Intake', 'Out', 'After 3 months',\n",
              "       'After 6 months', '1year', 'Change(0-1)'],\n",
              "      dtype='object')"
            ]
          },
          "metadata": {},
          "execution_count": 77
        }
      ]
    },
    {
      "cell_type": "code",
      "source": [],
      "metadata": {
        "id": "EUxaKwsTrOmA"
      },
      "execution_count": null,
      "outputs": []
    },
    {
      "cell_type": "code",
      "source": [
        "sns.scatterplot(x='Weight',y='Boiled Eggs',hue='Change(0-1)',data=df,palette=\"Blues\")\n",
        "plt.xlabel(\"Weight\")\n",
        "plt.ylabel(\"Boiled Eggs\")\n",
        "plt.show()"
      ],
      "metadata": {
        "colab": {
          "base_uri": "https://localhost:8080/",
          "height": 279
        },
        "id": "sr8U7K7InnEn",
        "outputId": "1f8dfa3a-1368-4042-dde7-1bfd80696fe7"
      },
      "execution_count": null,
      "outputs": [
        {
          "output_type": "display_data",
          "data": {
            "text/plain": [
              "<Figure size 432x288 with 1 Axes>"
            ],
            "image/png": "[encoded data removed]"
          },
          "metadata": {
            "needs_background": "light"
          }
        }
      ]
    },
    {
      "cell_type": "code",
      "source": [
        "df.Intake.plot.area()"
      ],
      "metadata": {
        "colab": {
          "base_uri": "https://localhost:8080/",
          "height": 285
        },
        "id": "mXPhjiqdn75a",
        "outputId": "acc50a6a-e667-45bb-c9f1-744c6107e51e"
      },
      "execution_count": null,
      "outputs": [
        {
          "output_type": "execute_result",
          "data": {
            "text/plain": [
              "<matplotlib.axes._subplots.AxesSubplot at 0x7fa7b551f110>"
            ]
          },
          "metadata": {},
          "execution_count": 61
        },
        {
          "output_type": "display_data",
          "data": {
            "text/plain": [
              "<Figure size 432x288 with 1 Axes>"
            ],
            "image/png": "[encoded data removed]"
          },
          "metadata": {
            "needs_background": "light"
          }
        }
      ]
    },
    {
      "cell_type": "code",
      "source": [
        "df.Intake.plot.box()"
      ],
      "metadata": {
        "colab": {
          "base_uri": "https://localhost:8080/",
          "height": 286
        },
        "id": "8hMEh5F_oCbC",
        "outputId": "3d42cc75-3327-43a3-84cb-d0340591b2be"
      },
      "execution_count": null,
      "outputs": [
        {
          "output_type": "execute_result",
          "data": {
            "text/plain": [
              "<matplotlib.axes._subplots.AxesSubplot at 0x7fa7b54a8510>"
            ]
          },
          "metadata": {},
          "execution_count": 62
        },
        {
          "output_type": "display_data",
          "data": {
            "text/plain": [
              "<Figure size 432x288 with 1 Axes>"
            ],
            "image/png": "[encoded data removed]"
          },
          "metadata": {
            "needs_background": "light"
          }
        }
      ]
    },
    {
      "cell_type": "code",
      "source": [
        "df.Intake.plot.density()"
      ],
      "metadata": {
        "colab": {
          "base_uri": "https://localhost:8080/",
          "height": 282
        },
        "id": "9YmVRcD9oKEG",
        "outputId": "5ffd3e18-91c6-4db8-edf5-f0499b83df61"
      },
      "execution_count": null,
      "outputs": [
        {
          "output_type": "execute_result",
          "data": {
            "text/plain": [
              "<matplotlib.axes._subplots.AxesSubplot at 0x7fa7b54891d0>"
            ]
          },
          "metadata": {},
          "execution_count": 63
        },
        {
          "output_type": "display_data",
          "data": {
            "text/plain": [
              "<Figure size 432x288 with 1 Axes>"
            ],
            "image/png": "[encoded data removed]"
          },
          "metadata": {
            "needs_background": "light"
          }
        }
      ]
    },
    {
      "cell_type": "code",
      "source": [
        "sns.boxenplot(x='Boiled Eggs',y='supplements',hue='Change(0-1)',data=df,palette=\"Blues\")\n",
        "\n",
        "plt.xlabel(\"Boiled Eggs\")\n",
        "plt.ylabel(\"supplements\")\n",
        "plt.show()"
      ],
      "metadata": {
        "colab": {
          "base_uri": "https://localhost:8080/",
          "height": 279
        },
        "id": "YDsqkCr-oPjl",
        "outputId": "d3559401-3c53-4ef8-94c7-b0cd0edcdd0f"
      },
      "execution_count": null,
      "outputs": [
        {
          "output_type": "display_data",
          "data": {
            "text/plain": [
              "<Figure size 432x288 with 1 Axes>"
            ],
            "image/png": "[encoded data removed]"
          },
          "metadata": {
            "needs_background": "light"
          }
        }
      ]
    },
    {
      "cell_type": "code",
      "source": [
        "sns.catplot(x='Boiled Eggs',y='supplements',hue='Change(0-1)',data=df,palette=\"Blues\")\n",
        "\n",
        "plt.xlabel(\"Boiled Eggs\")\n",
        "plt.ylabel(\"supplements\")\n",
        "plt.show()"
      ],
      "metadata": {
        "colab": {
          "base_uri": "https://localhost:8080/",
          "height": 369
        },
        "id": "q8MFFp3hpfBK",
        "outputId": "4b54818e-5772-473e-dd7f-09fb56128a95"
      },
      "execution_count": null,
      "outputs": [
        {
          "output_type": "display_data",
          "data": {
            "text/plain": [
              "<Figure size 430.25x360 with 1 Axes>"
            ],
            "image/png": "[encoded data removed]"
          },
          "metadata": {
            "needs_background": "light"
          }
        }
      ]
    },
    {
      "cell_type": "code",
      "source": [
        "sns.heatmap(df[['Intake','Out']])"
      ],
      "metadata": {
        "colab": {
          "base_uri": "https://localhost:8080/",
          "height": 283
        },
        "id": "L0Xc2o6MpqE8",
        "outputId": "be948340-5f54-4c7b-9152-627931a08f09"
      },
      "execution_count": null,
      "outputs": [
        {
          "output_type": "execute_result",
          "data": {
            "text/plain": [
              "<matplotlib.axes._subplots.AxesSubplot at 0x7fa7b5924650>"
            ]
          },
          "metadata": {},
          "execution_count": 67
        },
        {
          "output_type": "display_data",
          "data": {
            "text/plain": [
              "<Figure size 432x288 with 2 Axes>"
            ],
            "image/png": "[encoded data removed]"
          },
          "metadata": {
            "needs_background": "light"
          }
        }
      ]
    },
    {
      "cell_type": "code",
      "source": [
        "sns.heatmap(df.corr())"
      ],
      "metadata": {
        "colab": {
          "base_uri": "https://localhost:8080/",
          "height": 396
        },
        "id": "YQxvg8M9pwYk",
        "outputId": "b1532321-c027-4ce8-e29f-574141bbeb58"
      },
      "execution_count": null,
      "outputs": [
        {
          "output_type": "execute_result",
          "data": {
            "text/plain": [
              "<matplotlib.axes._subplots.AxesSubplot at 0x7fa7b2b8fa90>"
            ]
          },
          "metadata": {},
          "execution_count": 68
        },
        {
          "output_type": "display_data",
          "data": {
            "text/plain": [
              "<Figure size 432x288 with 2 Axes>"
            ],
            "image/png": "[encoded data removed]"
          },
          "metadata": {
            "needs_background": "light"
          }
        }
      ]
    },
    {
      "cell_type": "code",
      "source": [
        "sns.heatmap(df.corr(),annot=True,cmap='Reds')"
      ],
      "metadata": {
        "colab": {
          "base_uri": "https://localhost:8080/",
          "height": 396
        },
        "id": "ef8Zpi3Fp1l6",
        "outputId": "c6818583-3f08-4d3f-8a40-94ce63c4d8d8"
      },
      "execution_count": null,
      "outputs": [
        {
          "output_type": "execute_result",
          "data": {
            "text/plain": [
              "<matplotlib.axes._subplots.AxesSubplot at 0x7fa7b2a83c90>"
            ]
          },
          "metadata": {},
          "execution_count": 69
        },
        {
          "output_type": "display_data",
          "data": {
            "text/plain": [
              "<Figure size 432x288 with 2 Axes>"
            ],
            "image/png": "[encoded data removed]"
          },
          "metadata": {
            "needs_background": "light"
          }
        }
      ]
    },
    {
      "cell_type": "code",
      "source": [
        "df.count().plot.barh()"
      ],
      "metadata": {
        "colab": {
          "base_uri": "https://localhost:8080/",
          "height": 282
        },
        "id": "HYjiHDUXp-cm",
        "outputId": "e4a4749e-4884-4b04-f411-8680f74b70fe"
      },
      "execution_count": null,
      "outputs": [
        {
          "output_type": "execute_result",
          "data": {
            "text/plain": [
              "<matplotlib.axes._subplots.AxesSubplot at 0x7fa7b27cc210>"
            ]
          },
          "metadata": {},
          "execution_count": 70
        },
        {
          "output_type": "display_data",
          "data": {
            "text/plain": [
              "<Figure size 432x288 with 1 Axes>"
            ],
            "image/png": "[encoded data removed]"
          },
          "metadata": {
            "needs_background": "light"
          }
        }
      ]
    },
    {
      "cell_type": "code",
      "source": [
        "df.plot.area()"
      ],
      "metadata": {
        "colab": {
          "base_uri": "https://localhost:8080/",
          "height": 298
        },
        "id": "AZpf7OHXqDTR",
        "outputId": "0efc2756-3ee6-46ee-ce56-737b4f1bbdb9"
      },
      "execution_count": null,
      "outputs": [
        {
          "output_type": "execute_result",
          "data": {
            "text/plain": [
              "<matplotlib.axes._subplots.AxesSubplot at 0x7fa7b0ee9a10>"
            ]
          },
          "metadata": {},
          "execution_count": 71
        },
        {
          "output_type": "display_data",
          "data": {
            "text/plain": [
              "<Figure size 432x288 with 1 Axes>"
            ],
            "image/png": "[encoded data removed]"
          },
          "metadata": {
            "needs_background": "light"
          }
        }
      ]
    }
  ]
}